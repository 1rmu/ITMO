{
 "cells": [
  {
   "cell_type": "code",
   "execution_count": 1,
   "metadata": {},
   "outputs": [],
   "source": [
    "#Import necessary lib\n",
    "\n",
    "import pandas as pd\n",
    "import numpy as np\n",
    "import random\n",
    "from matplotlib import pyplot as plt"
   ]
  },
  {
   "cell_type": "code",
   "execution_count": 2,
   "metadata": {},
   "outputs": [
    {
     "name": "stderr",
     "output_type": "stream",
     "text": [
      "D:\\Anaconda\\lib\\site-packages\\numpy\\core\\fromnumeric.py:84: FutureWarning: In a future version, DataFrame.min(axis=None) will return a scalar min over the entire DataFrame. To retain the old behavior, use 'frame.min(axis=0)' or just 'frame.min()'\n",
      "  return reduction(axis=axis, out=out, **passkwargs)\n",
      "D:\\Anaconda\\lib\\site-packages\\numpy\\core\\fromnumeric.py:84: FutureWarning: In a future version, DataFrame.max(axis=None) will return a scalar max over the entire DataFrame. To retain the old behavior, use 'frame.max(axis=0)' or just 'frame.max()'\n",
      "  return reduction(axis=axis, out=out, **passkwargs)\n"
     ]
    },
    {
     "data": {
      "text/plain": [
       "array(['van', 'saab', 'bus', 'opel'], dtype=object)"
      ]
     },
     "execution_count": 2,
     "metadata": {},
     "output_type": "execute_result"
    }
   ],
   "source": [
    "#Use dataset car.csv (vehicle)\n",
    "data = pd.read_csv(\"car.csv\")\n",
    "#Class in dataset\n",
    "Y = data['Class']\n",
    "#Distribution by class in out dataset\n",
    "one_hot = pd.get_dummies(data['Class'], prefix = 'Class')\n",
    "#Our dataset without column \"Class\"\n",
    "X = data.drop(columns = ['Class'])\n",
    "#Minimax normalization\n",
    "X = ((X - np.min(X)) / (np.max(X) - np.min(X))).to_numpy()\n",
    "#Our data one_hot to array one_hot\n",
    "One_Hot_encoding = one_hot.to_numpy()\n",
    "#Dictionary for saving class numbers\n",
    "dictionary = {}\n",
    "#Complete the dictionary unique key (class)\n",
    "for j in range((Y.unique()).size):\n",
    "    dictionary[Y.unique()[j]] = j\n",
    "#See unique class in our dataset\n",
    "Y.unique()"
   ]
  },
  {
   "cell_type": "code",
   "execution_count": 3,
   "metadata": {},
   "outputs": [],
   "source": [
    "#Dictionary for saving class numbers (with 0 and 1)\n",
    "dic = {}\n",
    "#Complete the dictionary\n",
    "\n",
    "for i in range(One_Hot_encoding.shape[0]):\n",
    "    k = One_Hot_encoding[i]\n",
    "    key = np.array2string(k, precision=2, separator='')\n",
    "    dic[key] = dictionary[Y[i]]"
   ]
  },
  {
   "cell_type": "code",
   "execution_count": 4,
   "metadata": {},
   "outputs": [
    {
     "data": {
      "text/plain": [
       "{'van': 0, 'saab': 1, 'bus': 2, 'opel': 3}"
      ]
     },
     "execution_count": 4,
     "metadata": {},
     "output_type": "execute_result"
    }
   ],
   "source": [
    "dictionary"
   ]
  },
  {
   "cell_type": "code",
   "execution_count": 5,
   "metadata": {},
   "outputs": [
    {
     "data": {
      "text/plain": [
       "{'[0001]': 0, '[0010]': 1, '[1000]': 2, '[0100]': 3}"
      ]
     },
     "execution_count": 5,
     "metadata": {},
     "output_type": "execute_result"
    }
   ],
   "source": [
    "dic"
   ]
  },
  {
   "cell_type": "code",
   "execution_count": 6,
   "metadata": {},
   "outputs": [],
   "source": [
    "#Distance function\n",
    "def dist_Funcs(x, y, f):\n",
    "    \n",
    "    if f == 'Manhattan':\n",
    "        return np.sum(np.abs(x - y))\n",
    "    elif f == 'Euclidian':\n",
    "        return np.power(np.sum(np.power(np.abs(x - y),2)),1/2)\n",
    "    else:\n",
    "        return np.max(np.abs(x - y),axis=0)"
   ]
  },
  {
   "cell_type": "code",
   "execution_count": 7,
   "metadata": {},
   "outputs": [],
   "source": [
    "#Core function\n",
    "def core_Funcs (x, core):\n",
    "    \n",
    "    if core == 'uniform':\n",
    "        return 1/2\n",
    "    elif core == 'triangle':\n",
    "        return 1 - np.abs(x)\n",
    "    elif core == 'epanechnikov':\n",
    "        return 3/4*(1 - np.abs(x))\n",
    "    else:\n",
    "        return 15/16*np.power((1 - np.power(x,2)),2)"
   ]
  },
  {
   "cell_type": "code",
   "execution_count": 8,
   "metadata": {},
   "outputs": [],
   "source": [
    "def distance (u,x,function):\n",
    "    distances = []\n",
    "    \n",
    "    for i in range (len(x)):\n",
    "        a = dist_Funcs(u,x[i],function)\n",
    "        \n",
    "        if a == 0:\n",
    "            continue\n",
    "        distances.append(a)\n",
    "    \n",
    "    M = {k: v for k, v in enumerate(distances)}\n",
    "    M = dict(sorted(M.items(), key = lambda item:item[1]))\n",
    "    return M"
   ]
  },
  {
   "cell_type": "code",
   "execution_count": 9,
   "metadata": {},
   "outputs": [],
   "source": [
    "def Distances(C,fun):\n",
    "    Dist = []\n",
    "    for i in range(len(C)):\n",
    "        u = X[i]\n",
    "        a = distance(u,C,fun)\n",
    "        Dist.append(a)\n",
    "    \n",
    "    return Dist"
   ]
  },
  {
   "cell_type": "code",
   "execution_count": 10,
   "metadata": {},
   "outputs": [],
   "source": [
    "#Size Window (RD)\n",
    "def Max_distances(C,fun):\n",
    "    RD = 0\n",
    "    for i in range(len(C)):\n",
    "        u = X[i]\n",
    "        a = distance(u,C,fun)\n",
    "        RD = max(RD,max(a.values()))\n",
    "    \n",
    "    return RD"
   ]
  },
  {
   "cell_type": "code",
   "execution_count": 11,
   "metadata": {},
   "outputs": [],
   "source": [
    "#kNN algorithm\n",
    "def KNN(ker_function, K, h, Y):\n",
    "    \n",
    "    Predict = np.array([])\n",
    "    \n",
    "    for i in range (len(Dist)):\n",
    "        di = np.array(list(Dist[i].values()))\n",
    "        po = np.array(list(Dist[i].keys()))\n",
    "        Num = np.zeros((Y.shape[1],))\n",
    "        Den = np.zeros((Y.shape[1],))\n",
    "        \n",
    "        for j in range (K):\n",
    "            y = Y.iloc[po[j]]\n",
    "            \n",
    "            if h == 0:\n",
    "                di = di/rd\n",
    "            else:\n",
    "                di = di/di[K+1]\n",
    "            x = core_Funcs (di[j], ker_function)\n",
    "            Num = Num + (x * y)\n",
    "            Den = Den + x\n",
    "        Predict = np.append(Predict, Num/Den)\n",
    "    A = Predict.reshape(len(Dist),Y.shape[1])\n",
    "    Max = (A - np.max(A, axis=1).reshape(A.shape[0],1))\n",
    "    Max = (Max == 0)*1\n",
    "    \n",
    "    for i in range(A.shape[0]):\n",
    "        \n",
    "        if (sum(Max[i])>1):\n",
    "            index = np.where(Max[i] == 1)\n",
    "            Max[i] = np.zeros((1,A.shape[1]))\n",
    "            Max[i][index[0][0]]= 1\n",
    "        elif (sum(Max[i]) == 0):\n",
    "            Max[i][random.randint(0, 3)] = 1\n",
    "    return Max"
   ]
  },
  {
   "cell_type": "code",
   "execution_count": 12,
   "metadata": {},
   "outputs": [],
   "source": [
    "#F-measure\n",
    "def F_measure(Y,A,category):\n",
    "    Pred_matrix = np.zeros((Y.shape[1],Y.shape[1]))\n",
    "    F = np.zeros((1,Pred_matrix.shape[0]))\n",
    "    \n",
    "    for i in range (len(A)):\n",
    "        Y_orig = np.array2string(Y[i], separator='')\n",
    "        Y_pre = np.array2string(A[i], separator='')\n",
    "        Pred_matrix[category[Y_pre]-1][category[Y_orig]-1] +=1\n",
    "        \n",
    "    for i in range(Pred_matrix.shape[0]):\n",
    "        TP = Pred_matrix[i][i]\n",
    "        FP = np.sum(Pred_matrix[i], axis = 0) - TP\n",
    "        FN = np.sum([Pred_matrix[:,i]], axis = 1) - TP\n",
    "        Recall = TP/(TP+FN)\n",
    "        Precision = TP/(TP+FP)\n",
    "        F_1 = 2*(Recall*Precision)/(Recall+Precision)\n",
    "        F[0][i] = F_1\n",
    "        \n",
    "    return np.average(F)"
   ]
  },
  {
   "cell_type": "code",
   "execution_count": 13,
   "metadata": {},
   "outputs": [],
   "source": [
    "Distance_Function = []\n",
    "Kernel_Function = []\n",
    "Window = []\n",
    "K_neighbor = []\n",
    "F1_measure = []\n",
    "\n",
    "for dis in (['Manhattan','Euclidean','Chebyshev']):\n",
    "    Dist = Distances(X,dis)\n",
    "    rd = Max_distances(X,dis)\n",
    "    \n",
    "    for ker in (['uniform','triangle','epanechnikov','quartic']):\n",
    "        \n",
    "        for h in range(2):\n",
    "            \n",
    "            for k in (range(1,int(np.sqrt(X.shape[0])))):\n",
    "                A = KNN(ker, k, h, one_hot)\n",
    "                F1 = F_measure(One_Hot_encoding,A,dic)\n",
    "                \n",
    "                Distance_Function.append(dis)\n",
    "                Kernel_Function.append(ker)\n",
    "                Window.append(h)\n",
    "                K_neighbor.append(k)\n",
    "                F1_measure.append(F1)"
   ]
  },
  {
   "cell_type": "code",
   "execution_count": 14,
   "metadata": {},
   "outputs": [
    {
     "name": "stdout",
     "output_type": "stream",
     "text": [
      "Best result: 0.5917771570870912\n",
      "Best choice is:\n",
      "Distance Function:Manhattan\n",
      "Kernel Function: triangle\n",
      "Type of window: 1\n",
      "Num of Neighbors: 28\n"
     ]
    }
   ],
   "source": [
    "i = max(F1_measure)\n",
    "max_index = F1_measure.index(i)\n",
    "print(\"Best result: \"+ str(F1_measure[max_index]))\n",
    "print(\"Best choice is:\\nDistance Function:\"+ Distance_Function[max_index])\n",
    "print(\"Kernel Function: \"+ Kernel_Function[max_index])\n",
    "print(\"Type of window: \"+ str(Window[max_index]))\n",
    "print(\"Num of Neighbors: \"+ str(K_neighbor[max_index]))"
   ]
  },
  {
   "cell_type": "code",
   "execution_count": 16,
   "metadata": {},
   "outputs": [
    {
     "data": {
      "text/plain": [
       "[<matplotlib.lines.Line2D at 0x213eb025df0>]"
      ]
     },
     "execution_count": 16,
     "metadata": {},
     "output_type": "execute_result"
    }
   ],
   "source": [
    "K_N= []\n",
    "F_m= []\n",
    "\n",
    "Dist = Distances(X,Distance_Function[max_index])\n",
    "rd = Max_distances(X,Distance_Function[max_index])\n",
    "\n",
    "for k in (range(1,int(np.sqrt(X.shape[0])))):\n",
    "    A = KNN(Kernel_Function[max_index], k, Window[max_index], one_hot)\n",
    "    F1 = F_measure(One_Hot_encoding,A,dic)\n",
    "    K_N.append(k)\n",
    "    F_m.append(F1)\n",
    "    \n",
    "plt.plot(K_N,F_m)"
   ]
  },
  {
   "cell_type": "code",
   "execution_count": 17,
   "metadata": {},
   "outputs": [
    {
     "data": {
      "image/png": "[encoded data removed]",
      "text/plain": [
       "<Figure size 640x480 with 1 Axes>"
      ]
     },
     "metadata": {},
     "output_type": "display_data"
    }
   ],
   "source": [
    "plt.show()"
   ]
  },
  {
   "cell_type": "code",
   "execution_count": null,
   "metadata": {},
   "outputs": [],
   "source": []
  },
  {
   "cell_type": "code",
   "execution_count": null,
   "metadata": {},
   "outputs": [],
   "source": []
  }
 ],
 "metadata": {
  "kernelspec": {
   "display_name": "Python 3",
   "language": "python",
   "name": "python3"
  },
  "language_info": {
   "codemirror_mode": {
    "name": "ipython",
    "version": 3
   },
   "file_extension": ".py",
   "mimetype": "text/x-python",
   "name": "python",
   "nbconvert_exporter": "python",
   "pygments_lexer": "ipython3",
   "version": "3.8.5"
  }
 },
 "nbformat": 4,
 "nbformat_minor": 4
}
