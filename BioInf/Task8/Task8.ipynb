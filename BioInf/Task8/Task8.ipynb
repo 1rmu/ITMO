{
 "cells": [
  {
   "cell_type": "markdown",
   "metadata": {},
   "source": [
    "### Find the Longest Repeat in a String"
   ]
  },
  {
   "cell_type": "code",
   "execution_count": 1,
   "metadata": {},
   "outputs": [
    {
     "name": "stdout",
     "output_type": "stream",
     "text": [
      "GAAGGCTGGCATCGGCCTTGGCGGTGCCTAGGTTTGGCGTACCATGGTGACGCCCCACATCATTTTGGTGAACGATG\n"
     ]
    }
   ],
   "source": [
    "def longestRepeatedSubstring(str):\n",
    " \n",
    "    n = len(str)\n",
    "    LCSRe = [[0 for x in range(n + 1)]\n",
    "                for y in range(n + 1)]\n",
    " \n",
    "    res = \"\"\n",
    "    res_length = 0\n",
    "    index = 0\n",
    "    for i in range(1, n + 1):\n",
    "        for j in range(i + 1, n + 1):\n",
    "            if (str[i - 1] == str[j - 1] and\n",
    "                LCSRe[i - 1][j - 1] < (j - i)):\n",
    "                LCSRe[i][j] = LCSRe[i - 1][j - 1] + 1\n",
    "                if (LCSRe[i][j] > res_length):\n",
    "                    res_length = LCSRe[i][j]\n",
    "                    index = max(i, index)\n",
    "            else:\n",
    "                LCSRe[i][j] = 0\n",
    "    if (res_length > 0):\n",
    "        for i in range(index - res_length + 1,\n",
    "                                    index + 1):\n",
    "            res = res + str[i - 1]\n",
    "    return res\n",
    "if __name__ == \"__main__\":\n",
    "    str = \"GATATTTCGTCGCGGGGTCCGCATCACGTCCAATTACTGGAAAACAATTCATCGGCGACGTCGCGCTAGTCTACAAATGGTGGAGAGCTCCTGCGTCGTGGTGTGGCAGGGGTCGTAGGGAGCACCTCACACCCGACTCTATATCATCTATTCTAATCCCACAGTAGGATAGATGATTTGTCCCATAGCTAAGGACCCCAGGGATCGGGTCTAGATCGTAGCCCCCGCTCGTTAACTTTCTGCTCGGCTGAACCTGGATTTCAGGCTCTGATGTGCTCTACTGGGCCCTCAGTCAGTGAATGTTTCACGACCGATCTAAATCAGGTAACCTTCAGCCCGTCCATACGTGCTCACCCGTGAATGATAAGTTGGTGGTACATATACACCATTAAAAGGCTGGCATCGGCCTTGGCGGTGCCTAGGTTTGGCGTACCATGGTGACGCCCCACATCATTTTGGTGAACTGCTGATGCGCACGTAGGAGGTGTTTCTCAGGGTTCTGATGTTGGCGTCATTCAACACGAAGGCTGGCATCGGCCTTGGCGGTGCCTAGGTTTGGCGTACCATGGTGACGCCCCACATCATTTTGGTGAACGATGACCTCGCGCTTTGTCGAACAGGTTAATTGTTGAAATCTTTCCCAACGTCGCACTCAGTGCCATAGACTGAGCTAGTTTCAAAACCTCTCCTTCGGGTACGAATCGGTCTTGTCGCCTGTGGCCCGACATTCAGATCCGCCCCAAAGCTATTTGATAAGGCTGGCCGCTAATGAGGCCGCCCATATATTGACACGGAAGGTTCGGCAATTTTACCGCGGGCCCCCCTAATACCTTTGGCAACCGTAGTCTTGCGCCTGTTGCGGTAGAGAGGAATCGGTGAAAACTTACCAGCGTCAAGTTTGGTTTCTCCCGACGGAACTAAGCCTGCTGTATGAATCCAACCGCTCTCTTCTCTATCTACGGCGGTACGCCACCTCAAGTGGAAGGCTGGCATCGGCCTTGGCGGTGCCTAGGTTTGGCGTACCATGGTGACGCCCCACATCATTTTGGTGAACGATGGCTCATTAGCAAAAGGCCGTTAAGGCAAGAACTGCCAGGCCCCAGATACCGTCCCTGCAGAAGTTGACGACTGGGAAACACGTCATGGGTGACGGGATAGACTCACGCTATTAGAGTATTGGCTGTATGAACCGATTATTGGTCTGAGCAAAAACTCC\"\n",
    "    print(longestRepeatedSubstring(str))"
   ]
  }
 ],
 "metadata": {
  "kernelspec": {
   "display_name": "Python 3",
   "language": "python",
   "name": "python3"
  },
  "language_info": {
   "codemirror_mode": {
    "name": "ipython",
    "version": 3
   },
   "file_extension": ".py",
   "mimetype": "text/x-python",
   "name": "python",
   "nbconvert_exporter": "python",
   "pygments_lexer": "ipython3",
   "version": "3.8.5"
  }
 },
 "nbformat": 4,
 "nbformat_minor": 4
}
