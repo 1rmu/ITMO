{
 "cells": [
  {
   "cell_type": "markdown",
   "metadata": {},
   "source": [
    "### Implement the Viterbi Algorithm"
   ]
  },
  {
   "cell_type": "code",
   "execution_count": 5,
   "metadata": {},
   "outputs": [
    {
     "name": "stdout",
     "output_type": "stream",
     "text": [
      "CADBDBDBCADBDBCADBDBCADBDBCADBDBCADBDBCADBDBDBDBCADBCADBCACACADBCADBDBCADBDBCADBCACADBCADBCADBDBCADB\n"
     ]
    }
   ],
   "source": [
    "import numpy as np\n",
    "import operator\n",
    "import pdb\n",
    "\n",
    "\n",
    "if __name__ == \"__main__\":\n",
    "    with open(\"rosalind_ba10c.txt\") as infile:\n",
    "        observations = infile.readline().strip()\n",
    "        infile.readline()\n",
    "        alphabet = dict((char, index) for index, char in enumerate(infile.readline().strip().split()))\n",
    "        infile.readline()\n",
    "        states = dict((state, index) for index, state in enumerate(infile.readline().strip().split()))\n",
    "        infile.readline()\n",
    "        infile.readline()\n",
    "        t = np.zeros( (len(states), len(states)))\n",
    "        for row in range(len(states)):\n",
    "            line = infile.readline()\n",
    "            for col, prob in enumerate(line.split()[1:]):\n",
    "                t[row][col] = prob\n",
    "        infile.readline()\n",
    "        infile.readline()\n",
    "        e = np.zeros( (len(states), len(alphabet)));\n",
    "        for row, line in enumerate(infile.readlines()):\n",
    "            for col, prob in enumerate(line.split()[1:]):\n",
    "                e[row][col] = prob\n",
    "        c = np.zeros( len(observations) )\n",
    "        V = [{st : {\"prob\" : (1.0 / len(states)) * e[states[st]][alphabet[observations[0]]], \"prev\" : None} for st in states}]\n",
    "        c[0] = 1.0 / sum(V[0][st][\"prob\"] for st in states)\n",
    "        for st in states:\n",
    "            V[0][st][\"prob\"] *= c[0]\n",
    "        for n in range(1, len(observations)):\n",
    "            V.append({})\n",
    "            for state in states:\n",
    "                prob, prev_st = max(((V[n-1][prev_state][\"prob\"] * t[states[prev_state]][states[state]], prev_state) for prev_state in states), key = operator.itemgetter(0))\n",
    "                V[n][state] = {\"prob\" : prob * e[states[state]][alphabet[observations[n]]], \"prev\" : prev_st}\n",
    "            c[n] = 1.0 / sum(V[n][st][\"prob\"] for st in states)\n",
    "            for st in states:\n",
    "                V[n][st][\"prob\"] *= c[n] \n",
    "        prev, state = max(((V[-1][st][\"prev\"], st) for st in V[-1]), key=lambda s: V[-1][s[1]][\"prob\"])\n",
    "        path = state\n",
    "        for i in range(len(V) - 2, -1, -1):\n",
    "            path = prev + path\n",
    "            prev = V[i][prev][\"prev\"]\n",
    "        print(path)"
   ]
  }
 ],
 "metadata": {
  "kernelspec": {
   "display_name": "Python 3",
   "language": "python",
   "name": "python3"
  },
  "language_info": {
   "codemirror_mode": {
    "name": "ipython",
    "version": 3
   },
   "file_extension": ".py",
   "mimetype": "text/x-python",
   "name": "python",
   "nbconvert_exporter": "python",
   "pygments_lexer": "ipython3",
   "version": "3.8.5"
  }
 },
 "nbformat": 4,
 "nbformat_minor": 5
}
