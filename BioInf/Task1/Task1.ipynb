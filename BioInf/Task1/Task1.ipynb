{
 "cells": [
  {
   "cell_type": "markdown",
   "metadata": {},
   "source": [
    "### Find a Median String"
   ]
  },
  {
   "cell_type": "code",
   "execution_count": 3,
   "metadata": {},
   "outputs": [],
   "source": [
    "def min_ham_dist(p, s):\n",
    "    min_distance = len(p)\n",
    "    for i in range(len(s) - len(p) + 1):\n",
    "        distance = sum([1 for j in range(len(p)) if p[j] != s[i:i+len(p)][j]])\n",
    "        if distance < min_distance:\n",
    "            min_distance = distance\n",
    "    return min_distance\n",
    "\n",
    "\n",
    "def generate_arr(k):\n",
    "    bases = ['A', 'C', 'G', 'T']\n",
    "    arr = bases\n",
    "    for n in range(k-1):\n",
    "        arr = [i+j for i in arr for j in bases]\n",
    "    return arr\n",
    "\n",
    "def median_string(k, dna):\n",
    "    pattern = generate_arr(k)\n",
    "    dist_pattern_dna = {}\n",
    "    min_str = len(dna) * len(pattern)\n",
    "    for i in pattern:\n",
    "        sum_dist = 0\n",
    "        for j in range(len(dna)):\n",
    "            sum_dist += min_ham_dist(i, dna[j])\n",
    "        dist_pattern_dna[i] = sum_dist\n",
    "        if sum_dist < min_str:\n",
    "            min_str = sum_dist\n",
    "    for t in dist_pattern_dna.keys():\n",
    "        if dist_pattern_dna[t] == min_str:\n",
    "            print(t)"
   ]
  },
  {
   "cell_type": "code",
   "execution_count": 4,
   "metadata": {},
   "outputs": [
    {
     "name": "stdout",
     "output_type": "stream",
     "text": [
      "GTATAG\n",
      "GTATGG\n"
     ]
    }
   ],
   "source": [
    "if __name__ == \"__main__\":\n",
    "    with open(\"rosalind_ba2b.txt\", \"r\") as f:\n",
    "        k = int(f.readline().strip())\n",
    "        dna = [line.strip() for line in f]\n",
    "    median_string(k, dna)"
   ]
  }
 ],
 "metadata": {
  "kernelspec": {
   "display_name": "Python 3",
   "language": "python",
   "name": "python3"
  },
  "language_info": {
   "codemirror_mode": {
    "name": "ipython",
    "version": 3
   },
   "file_extension": ".py",
   "mimetype": "text/x-python",
   "name": "python",
   "nbconvert_exporter": "python",
   "pygments_lexer": "ipython3",
   "version": "3.8.5"
  }
 },
 "nbformat": 4,
 "nbformat_minor": 5
}
