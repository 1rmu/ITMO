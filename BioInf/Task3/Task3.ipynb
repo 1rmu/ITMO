{
 "cells": [
  {
   "cell_type": "markdown",
   "metadata": {},
   "source": [
    "### Reconstruct a String from its Paired Composition"
   ]
  },
  {
   "cell_type": "code",
   "execution_count": 47,
   "metadata": {},
   "outputs": [
    {
     "name": "stdout",
     "output_type": "stream",
     "text": [
      "CTACTCGCCTGGACGGGGACGTGCCTAGGCCTAGTTGCAAAGGGCTGAGGTGCACGTGCCTAGGCCTAGTTGCAAAGGGCTGACCTAGGCCGGATGGTTTGCCATGCGAGCGACTAATGGGTCCGCCAAGGTCAGTGCCTTATTATACAGTAGTCAACACGTGCCTAGGCCTAGTTGCAAAGGGCTGACCTCGGGTTATCCTTGTAGCAACATCAATTTCGACAGGAGCGTCAGTTCTCACGTGCCTAGGCCTAGTTGCAAAGGGCTGAGCAAGCCTGGACCACATTAAGGCTGTCTGTGTCTGATTCTACGTGCCTAGGCCTAGTTGCAAAGGGCTGAAACATCGGATCCTCAAGAGCCTATAGGGGGCAATTATGTAAATAGGGGCACAGGCGATAGGCCTGATCCGTACGGTGACGTGCCTAGGCCTAGTTGCAAAGGGCTGAAACCCGTACGTAACCAGACAACGTGCCTAGGCCTAGTTGCAAAGGGCTGAGAGCAGCAACTAGTATTTCTTCATCCGACAAGGCGTTCGATCCCCAACGTAAGTGTGGTACGTGAGAGGCCCTATCGAGGTGCTGTAAATATGCATCTTTTAAAGTGCAACGTGCCTAGGCCTAGTTGCAAAGGGCTGACCTGTCCCGTCATACACGTGCCTAGGCCTAGTTGCAAAGGGCTGAGGTTTATTCCCTTGGGTCTCCACCAAAGGGACAAACGTGCCTAGGCCTAGTTGCAAAGGGCTGAGCATAAGGGGACCGATACGAAGTGGTAAATCTACTAAGGCTAAGAAACCCGCGTATCCGCCATACATTATCCAGGACGTTCACCGAACTGACGCTTACGTAGCGCATCACGACTACTTCGGACAACAAGTTCAGTATACTTCAGCTAACTATTCCGCAATGTCCGGTACGTGCCTAGGCCTAGTTGCAAAGGGCTGATGGCAACAGTCGATGAACGTGCCTAGGCCTAGTTGCAAAGGGCTGAAAACGATCGTAGTGCCGGGTATAATCGTTCTACACATGAACGTGCCTAGGCCTAGTTGCAAAGGGCTGAAGACTGCCGAGAAGGGGGATCCCCGAACTTGTATGCGACCATCCTACGTTATCCCCGTTCCCGTACGTAATGATTTCGGCCCTCGCAGGGCCAACAGTTTCAAGCATATATATAAGATACTTACCCTGACGGGGCGTGATTTAGCGGAAATCAACAGGAACGTGCCTAGGCCTAGTTGCAAAGGGCTGACTGATCACCTCTTTACATTTGCCTGTTGTCATACGTGCCTAGGCCTAGTTGCAAAGGGCTGAGGACCGAACGTAACCGCCCGTGGGGGAAGAGTTGACACTGCTCAAAACGTGGGATTCCTATCAGTGGTAACTCAGATATCCTCTCCGGTTCGTGTCGAGATCTGGAAGAAACAAAATGATCGGGTGTACCCGCTGCACTATCC\n"
     ]
    }
   ],
   "source": [
    "import collections   \n",
    "import itertools\n",
    "\n",
    "in_file = open('rosalind_ba3j.txt', 'r')\n",
    "\n",
    "line = 0\n",
    "in_pkmer=[]\n",
    "in_skmer=[]\n",
    "in_kmer={}\n",
    "bkmer=[]\n",
    "in_distance = 0\n",
    "okmer=[]\n",
    "i=0\n",
    "in_distance = int(in_file.readline().split()[1])\n",
    "for in_data in in_file:\n",
    "    ldata = in_data.strip(' \\t\\n\\r')\n",
    "    if (len(ldata)==0):\n",
    "        break\n",
    "    else:\n",
    "        ls = ldata.split(\"|\")\n",
    "        in_kmer[i]=[ls[0],ls[1]]\n",
    "        i+=1\n",
    "    line+=1\n",
    "\n",
    "bkmer=[False]*len(in_kmer)\n",
    "\n",
    "i=0\n",
    "pos = len(in_kmer[0][0])-1\n",
    "#print (pos)\n",
    "while (bkmer.count(False)) > 1:\n",
    "    if(not bkmer[i]):\n",
    "        ikmer = in_kmer[i][0]\n",
    "        ikmer1 = in_kmer[i][1]\n",
    "        ek = ikmer[len(ikmer)-pos:len(ikmer)]\n",
    "        ek1 = ikmer1[len(ikmer1)-pos:len(ikmer1)]\n",
    "        for j in range(0,len(in_kmer)):\n",
    "            if(not bkmer[j]):\n",
    "                jkmer = in_kmer[j][0]\n",
    "                jkmer1 = in_kmer[j][1]\n",
    "                sk = jkmer[0:pos]\n",
    "                sk1 = jkmer1[0:pos]\n",
    "                if(ek==sk and ek1==sk1):\n",
    "                    npref =ikmer+jkmer[pos:len(jkmer)]\n",
    "                    nsuff =in_kmer[i][1]+in_kmer[j][1][pos:len(jkmer)]\n",
    "                    in_kmer[i][0]=npref\n",
    "                    in_kmer[i][1]=nsuff\n",
    "                    bkmer[j]=True\n",
    "                    i=-1\n",
    "                    break\n",
    "    i+=1\n",
    "\n",
    "bpos = bkmer.index(False)\n",
    "pre = in_kmer[bpos][0]\n",
    "suf = in_kmer[bpos][1]\n",
    "res = pre+suf[len(suf)-(pos+1+in_distance):len(suf)]\n",
    "print (res)"
   ]
  },
  {
   "cell_type": "code",
   "execution_count": null,
   "metadata": {},
   "outputs": [],
   "source": []
  }
 ],
 "metadata": {
  "kernelspec": {
   "display_name": "Python 3",
   "language": "python",
   "name": "python3"
  },
  "language_info": {
   "codemirror_mode": {
    "name": "ipython",
    "version": 3
   },
   "file_extension": ".py",
   "mimetype": "text/x-python",
   "name": "python",
   "nbconvert_exporter": "python",
   "pygments_lexer": "ipython3",
   "version": "3.8.5"
  }
 },
 "nbformat": 4,
 "nbformat_minor": 5
}
